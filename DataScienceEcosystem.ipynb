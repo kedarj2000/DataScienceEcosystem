{
 "cells": [
  {
   "cell_type": "markdown",
   "id": "1851156e-8420-4385-a41c-67c7ff4d3c57",
   "metadata": {},
   "source": [
    "# Data Science Tools and Ecosystem"
   ]
  },
  {
   "cell_type": "markdown",
   "id": "8112ebf5-c142-4a19-a39d-34320ce713a1",
   "metadata": {},
   "source": [
    "In this notebook, Data Science Tools and Ecosystem are summarized."
   ]
  },
  {
   "cell_type": "markdown",
   "id": "8b943836-a2ec-449a-a3b6-e053289fc9b0",
   "metadata": {},
   "source": [
    "**Objectives:**\n",
    "- List popular languages for Data Science\n",
    "- List commonly used libraries used by Data Scientists\n",
    "- Tabluate Data Science Tools"
   ]
  },
  {
   "cell_type": "markdown",
   "id": "40972c9e-78da-4724-8d7f-41091e2cb721",
   "metadata": {},
   "source": [
    "Some of the popular languages that Data Scientists use are:\n",
    " 1. Python\n",
    " 2. R \n",
    " 3. SQL\n",
    " 4. Java"
   ]
  },
  {
   "cell_type": "markdown",
   "id": "b4a777cb-61a0-40e1-9f4a-6369c9e8fef8",
   "metadata": {},
   "source": [
    "Some of the commonly used libraries used by Data Scientists include:\n",
    "1. numpy\n",
    "2. matplotlib\n",
    "3. Panda\n",
    "4. scikit-learn"
   ]
  },
  {
   "cell_type": "markdown",
   "id": "0b9197eb-a8e8-4ea8-b518-63a392f0b90a",
   "metadata": {},
   "source": [
    "| Data Science Tools |\n",
    "| ------------------ |\n",
    "|RStudio|\n",
    "|Apache Spark|\n",
    "|TensorFlow|"
   ]
  },
  {
   "cell_type": "markdown",
   "id": "e3832e02-798d-4fd8-824b-9839b1d9b6f8",
   "metadata": {},
   "source": [
    "### Below are a few examples of evaluating arithmetic expressions in Python"
   ]
  },
  {
   "cell_type": "code",
   "execution_count": 3,
   "id": "3be2e7c6-2e9e-4342-b1a2-95b2212207fb",
   "metadata": {},
   "outputs": [
    {
     "data": {
      "text/plain": [
       "17"
      ]
     },
     "execution_count": 3,
     "metadata": {},
     "output_type": "execute_result"
    }
   ],
   "source": [
    "#This a simple arithmetic expression to mutiply then add integers\n",
    "\n",
    "(3*4)+5"
   ]
  },
  {
   "cell_type": "code",
   "execution_count": 5,
   "id": "6d69bd19-b286-48e0-8a7c-1f2574ea603b",
   "metadata": {},
   "outputs": [
    {
     "data": {
      "text/plain": [
       "3.3333333333333335"
      ]
     },
     "execution_count": 5,
     "metadata": {},
     "output_type": "execute_result"
    }
   ],
   "source": [
    "#This will convert 200 minutes to hours by diving by 60\n",
    "\n",
    "200/60"
   ]
  },
  {
   "cell_type": "markdown",
   "id": "a2bba1cc-44bc-4da7-a3be-e45efc97bcb8",
   "metadata": {},
   "source": [
    "## Author\n",
    "   Kedar"
   ]
  },
  {
   "cell_type": "code",
   "execution_count": null,
   "id": "5c03c24c-a408-4d62-925c-3fef3f5784c3",
   "metadata": {},
   "outputs": [],
   "source": []
  }
 ],
 "metadata": {
  "kernelspec": {
   "display_name": "Python 3",
   "language": "python",
   "name": "python3"
  },
  "language_info": {
   "codemirror_mode": {
    "name": "ipython",
    "version": 3
   },
   "file_extension": ".py",
   "mimetype": "text/x-python",
   "name": "python",
   "nbconvert_exporter": "python",
   "pygments_lexer": "ipython3",
   "version": "3.9.5"
  }
 },
 "nbformat": 4,
 "nbformat_minor": 5
}
